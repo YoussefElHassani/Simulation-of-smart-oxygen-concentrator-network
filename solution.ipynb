{
 "cells": [
  {
   "attachments": {},
   "cell_type": "markdown",
   "metadata": {},
   "source": [
    "### Import the necessary libraries"
   ]
  },
  {
   "cell_type": "code",
   "execution_count": 4,
   "metadata": {},
   "outputs": [],
   "source": [
    "import pandas as pd\n",
    "import numpy as np\n",
    "import matplotlib.pyplot as plt\n",
    "from sklearn.linear_model import BayesianRidge\n",
    "from sklearn.metrics import mean_squared_error, r2_score\n",
    "from sklearn.model_selection import train_test_split\n"
   ]
  },
  {
   "attachments": {},
   "cell_type": "markdown",
   "metadata": {},
   "source": [
    "# 1st Part - Pretreatment "
   ]
  },
  {
   "cell_type": "code",
   "execution_count": 5,
   "metadata": {},
   "outputs": [
    {
     "name": "stdout",
     "output_type": "stream",
     "text": [
      "Found 5 duplicate rows.\n"
     ]
    },
    {
     "data": {
      "text/html": [
       "<div>\n",
       "<style scoped>\n",
       "    .dataframe tbody tr th:only-of-type {\n",
       "        vertical-align: middle;\n",
       "    }\n",
       "\n",
       "    .dataframe tbody tr th {\n",
       "        vertical-align: top;\n",
       "    }\n",
       "\n",
       "    .dataframe thead th {\n",
       "        text-align: right;\n",
       "    }\n",
       "</style>\n",
       "<table border=\"1\" class=\"dataframe\">\n",
       "  <thead>\n",
       "    <tr style=\"text-align: right;\">\n",
       "      <th></th>\n",
       "      <th>device_id</th>\n",
       "      <th>x_position</th>\n",
       "      <th>y_position</th>\n",
       "      <th>oxygen_concentration</th>\n",
       "      <th>use_duration_in_min</th>\n",
       "      <th>level</th>\n",
       "      <th>temperature</th>\n",
       "      <th>patient_oxygen_saturation</th>\n",
       "    </tr>\n",
       "  </thead>\n",
       "  <tbody>\n",
       "    <tr>\n",
       "      <th>0</th>\n",
       "      <td>2018</td>\n",
       "      <td>131</td>\n",
       "      <td>80</td>\n",
       "      <td>93</td>\n",
       "      <td>160</td>\n",
       "      <td>1</td>\n",
       "      <td>37.0</td>\n",
       "      <td>90.0</td>\n",
       "    </tr>\n",
       "    <tr>\n",
       "      <th>1</th>\n",
       "      <td>2019</td>\n",
       "      <td>60</td>\n",
       "      <td>389</td>\n",
       "      <td>93</td>\n",
       "      <td>160</td>\n",
       "      <td>1</td>\n",
       "      <td>38.0</td>\n",
       "      <td>89.0</td>\n",
       "    </tr>\n",
       "    <tr>\n",
       "      <th>2</th>\n",
       "      <td>2020</td>\n",
       "      <td>600</td>\n",
       "      <td>211</td>\n",
       "      <td>95</td>\n",
       "      <td>160</td>\n",
       "      <td>2</td>\n",
       "      <td>38.0</td>\n",
       "      <td>90.0</td>\n",
       "    </tr>\n",
       "    <tr>\n",
       "      <th>3</th>\n",
       "      <td>2018</td>\n",
       "      <td>131</td>\n",
       "      <td>80</td>\n",
       "      <td>93</td>\n",
       "      <td>220</td>\n",
       "      <td>1</td>\n",
       "      <td>40.0</td>\n",
       "      <td>90.0</td>\n",
       "    </tr>\n",
       "    <tr>\n",
       "      <th>4</th>\n",
       "      <td>2019</td>\n",
       "      <td>60</td>\n",
       "      <td>389</td>\n",
       "      <td>93</td>\n",
       "      <td>220</td>\n",
       "      <td>1</td>\n",
       "      <td>39.0</td>\n",
       "      <td>89.0</td>\n",
       "    </tr>\n",
       "  </tbody>\n",
       "</table>\n",
       "</div>"
      ],
      "text/plain": [
       "   device_id  x_position  y_position  oxygen_concentration  \\\n",
       "0       2018         131          80                    93   \n",
       "1       2019          60         389                    93   \n",
       "2       2020         600         211                    95   \n",
       "3       2018         131          80                    93   \n",
       "4       2019          60         389                    93   \n",
       "\n",
       "   use_duration_in_min level  temperature  patient_oxygen_saturation  \n",
       "0                  160    1          37.0                       90.0  \n",
       "1                  160    1          38.0                       89.0  \n",
       "2                  160    2          38.0                       90.0  \n",
       "3                  220    1          40.0                       90.0  \n",
       "4                  220    1          39.0                       89.0  "
      ]
     },
     "execution_count": 5,
     "metadata": {},
     "output_type": "execute_result"
    }
   ],
   "source": [
    "# Read the log file into a DataFrame\n",
    "df = pd.read_csv('data/smart_oxygen_concentrator_activities.txt',\n",
    "                 sep='--',\n",
    "                 names=['timestamp', 'device_id', 'x_position', 'y_position', 'oxygen_concentration', 'use_duration_in_min', 'level', 'temperature', 'patient_oxygen_saturation'],\n",
    "                 engine='python')\n",
    "\n",
    "# Select only the columns that we want to keep\n",
    "df = df[['device_id', 'x_position', 'y_position', 'oxygen_concentration', 'use_duration_in_min', 'level', 'temperature', 'patient_oxygen_saturation']]\n",
    "\n",
    "# Count the number of duplicate rows\n",
    "num_duplicates = df.duplicated().sum()\n",
    "print(f\"Found {num_duplicates} duplicate rows.\")\n",
    "\n",
    "# Write the data to a CSV file\n",
    "df.to_csv('data/smart_oxygen_concentrator_data.csv', index=False)\n",
    "\n",
    "# Check if head of the data frame\n",
    "df.head()\n"
   ]
  },
  {
   "attachments": {},
   "cell_type": "markdown",
   "metadata": {},
   "source": [
    "# Part 2 - Prediction \n",
    "## Building and training a Basian Regression model\n",
    "For starters, let's take build a basian regression model and have a look at it's performance"
   ]
  },
  {
   "cell_type": "code",
   "execution_count": 6,
   "metadata": {},
   "outputs": [
    {
     "name": "stdout",
     "output_type": "stream",
     "text": [
      "Mean squared error: 2.28\n",
      "R-squared score: 0.81\n"
     ]
    },
    {
     "data": {
      "image/png": "[encoded data removed]",
      "text/plain": [
       "<Figure size 640x480 with 1 Axes>"
      ]
     },
     "metadata": {},
     "output_type": "display_data"
    }
   ],
   "source": [
    "DEVICE_ID = 2018\n",
    "OXYGEN_CONCENTRATOR_LOG = 'data/smart_oxygen_concentrator_data.csv'\n",
    "THRESHOLD = 80\n",
    "\n",
    "df = pd.read_csv(OXYGEN_CONCENTRATOR_LOG)\n",
    "\n",
    "# Select only the data for device with ID 2018\n",
    "df = df[df['device_id'] == DEVICE_ID]\n",
    "\n",
    "# Define the input and output variables\n",
    "X = df[['level', 'use_duration_in_min']]\n",
    "y = df['oxygen_concentration']\n",
    "\n",
    "# Splitting dataset into training and testing sets\n",
    "X_train, X_test, y_train, y_test = train_test_split(X, y, test_size = 0.3, random_state = 42)\n",
    "\n",
    "# Creating and training model\n",
    "model = BayesianRidge()\n",
    "model.fit(X_train, y_train)\n",
    "\n",
    "# Model making a prediction on test data\n",
    "y_pred = model.predict(X_test)\n",
    "\n",
    "# Print the mean squared error and R-squared score\n",
    "print('Mean squared error: %.2f' % mean_squared_error(y_test, y_pred))\n",
    "print('R-squared score: %.2f' % r2_score(y_test, y_pred))\n",
    "\n",
    "# Plot the predicted versus actual values\n",
    "plt.scatter(X_test['use_duration_in_min'], y_test, color='blue', label='Actual')\n",
    "plt.plot(X_test['use_duration_in_min'], y_pred, color='red', label='Predicted')\n",
    "plt.xlabel('Use Duration (min)')\n",
    "plt.ylabel('Oxygen Concentration')\n",
    "plt.title('Actual vs. Predicted Use Duration')\n",
    "plt.legend()\n",
    "plt.show()"
   ]
  },
  {
   "attachments": {},
   "cell_type": "markdown",
   "metadata": {},
   "source": [
    "The Bayesian regression model has a mean squared error (MSE) of 2.28 and an R-squared score of 0.81. The MSE represents the average squared difference between the actual and predicted values of the target variable, where a lower value indicates a better fit. The R-squared score represents the proportion of the variance in the target variable that is explained by the model, where a higher value indicates a better fit.\n",
    "\n",
    "In this case, the MSE of 2.28 indicates that the model has a relatively low average squared difference between the actual and predicted values, which suggests that the model is fitting the data reasonably well. The R-squared score of 0.81 indicates that the model is able to explain a relatively large proportion of the variance in the target variable, which suggests that the model is a good fit for the data.\n",
    "\n",
    "We can see that as the use duration increases, the predicted oxygen concentration decreases. This suggests that there is a negative relationship between use duration and oxygen concentration, which is consistent with our understanding of the operating principle of an oxygen concentrator. The fact that the model has a relatively low MSE and a relatively high R-squared score suggests that the model is able to capture this relationship reasonably well, and can be used to make predictions of the oxygen concentration for a given device, based on its use duration and level."
   ]
  },
  {
   "attachments": {},
   "cell_type": "markdown",
   "metadata": {},
   "source": [
    "## Predicting when a filter change is needed"
   ]
  },
  {
   "attachments": {},
   "cell_type": "markdown",
   "metadata": {},
   "source": [
    "### using use_duration_min as output variable\n",
    "A better approach would be to use use_duration_min as an output variable and predict when the oxygen concentration will reach 80. This approach would allow us to estimate how long the device needs to be used to reach a certain oxygen concentration level and could be useful for determining the optimal duration of device use in a given scenario. By going this way, we significantly decrease the complexity of our code and the final prediction should be different since we changed the configuration of the model.\n",
    "\n"
   ]
  },
  {
   "cell_type": "code",
   "execution_count": 7,
   "metadata": {},
   "outputs": [],
   "source": [
    "DEVICE_ID = 2018\n",
    "OXYGEN_CONCENTRATOR_LOG = 'data/smart_oxygen_concentrator_data.csv'\n",
    "THRESHOLD = 80\n",
    "\n",
    "def train_model(device_id, data_set_path = OXYGEN_CONCENTRATOR_LOG):\n",
    "    # Check if data_set_path is not None\n",
    "    if data_set_path is None:\n",
    "        raise ValueError(\"data_set_path must not be None\")\n",
    "\n",
    "    # Load the data from the CSV file\n",
    "    df = pd.read_csv(data_set_path)\n",
    "    \n",
    "    # Select only the data for device with ID 2018\n",
    "    df = df[df['device_id'] == device_id]\n",
    "\n",
    "    # Check if the filtered data frame is not empty\n",
    "    if df.empty:\n",
    "        raise ValueError(\"No data found for device ID {device_id}\")\n",
    "\n",
    "    # Define the input and output variables\n",
    "    X = df[['level', 'oxygen_concentration']]\n",
    "    y = df['use_duration_in_min']\n",
    "\n",
    "    # Splitting dataset into training and testing sets\n",
    "    X_train, X_test, y_train, y_test = train_test_split(X, y, test_size = 0.3, random_state = 42)\n",
    "    \n",
    "    # Creating and training model\n",
    "    model = BayesianRidge()\n",
    "    model.fit(X_train, y_train)\n",
    "\n",
    "    return model\n",
    "\n",
    "\n",
    "basian_regression_model = train_model(device_id = DEVICE_ID)"
   ]
  },
  {
   "cell_type": "code",
   "execution_count": 8,
   "metadata": {},
   "outputs": [
    {
     "name": "stdout",
     "output_type": "stream",
     "text": [
      "The predicted time where the filter in device #2018 is: 2 days, 21 hours, and 28 minutes from installation\n"
     ]
    }
   ],
   "source": [
    "def predict(device_id, model, level=1, oxygen_concentration_threshold = 80, data_set_path = OXYGEN_CONCENTRATOR_LOG):\n",
    "    # Check if data_set_path is not None\n",
    "    if data_set_path is None:\n",
    "        raise ValueError(\"data_set_path must not be None\")\n",
    "\n",
    "    # Check if device_id is an integer\n",
    "    if not isinstance(device_id, int):\n",
    "        raise ValueError(\"device_id must be an integer\")\n",
    "    \n",
    "    # Load the data from the CSV file\n",
    "    df = pd.read_csv(data_set_path)\n",
    "\n",
    "    # Select only the data for the given device ID\n",
    "    df = df[df['device_id'] == device_id]\n",
    "    # Check if the filtered data frame is not empty\n",
    "    if df.empty:\n",
    "        raise ValueError(\"No data found for device ID {device_id}\")\n",
    "    # Validate the input arguments\n",
    "    if level not in [1, 2]:\n",
    "        raise ValueError(\"Invalid level: must be either 1 or 2\")\n",
    "    if oxygen_concentration_threshold <= 0:\n",
    "        raise ValueError(\"Invalid threshold: must be a positive number\")\n",
    "\n",
    "   # Define the input variables\n",
    "    X =  pd.DataFrame(np.array([[level, oxygen_concentration_threshold]]), columns=['level', 'oxygen_concentration'])\n",
    "    y_pred = model.predict(X)\n",
    "\n",
    "    return y_pred[0]\n",
    "predicted_time_in_minutes = predict(device_id=DEVICE_ID, model=basian_regression_model, oxygen_concentration_threshold = THRESHOLD)\n",
    "\n",
    "# Convert the duration to days, hours, and minutes\n",
    "days = predicted_time_in_minutes // (24 * 60)\n",
    "hours = (predicted_time_in_minutes // 60) % 24\n",
    "minutes = predicted_time_in_minutes % 60\n",
    "print(f\"The predicted time where the filter(s) needs change in device #{DEVICE_ID} is: {days:.0f} days, {hours:.0f} hours, and {minutes:.0f} minutes from installation\")"
   ]
  },
  {
   "attachments": {},
   "cell_type": "markdown",
   "metadata": {},
   "source": [
    "### Using oxygen_concentration as output variable\n",
    "This answer is based on the initial prompt. You will notice that the final result is different compared to the first approach where we reversed oxygen_concentration and use_duration_in_min"
   ]
  },
  {
   "cell_type": "code",
   "execution_count": 9,
   "metadata": {},
   "outputs": [],
   "source": [
    "DEVICE_ID = 2018\n",
    "OXYGEN_CONCENTRATOR_LOG = 'data/smart_oxygen_concentrator_data.csv'\n",
    "THRESHOLD = 80\n",
    "\n",
    "def train_model(device_id, data_set_path = OXYGEN_CONCENTRATOR_LOG):\n",
    "    # Check if data_set_path is not None\n",
    "    if data_set_path is None:\n",
    "        raise ValueError(\"data_set_path must not be None\")\n",
    "    \n",
    "    # Load the data from the CSV file\n",
    "    df = pd.read_csv(data_set_path)\n",
    "    \n",
    "    # Select only the data for device with ID 2018\n",
    "    df = df[df['device_id'] == device_id]\n",
    "\n",
    "    # Check if the filtered data frame is not empty\n",
    "    if df.empty:\n",
    "        raise ValueError(\"No data found for device ID {device_id}\")\n",
    "\n",
    "    # Define the input and output variables\n",
    "    X = df[['level', 'use_duration_in_min']]\n",
    "    y = df['oxygen_concentration']\n",
    "\n",
    "    # Splitting dataset into training and testing sets\n",
    "    X_train, X_test, y_train, y_test = train_test_split(X, y, test_size = 0.3, random_state = 42)\n",
    "    \n",
    "    # Creating and training model\n",
    "    model = BayesianRidge()\n",
    "    model.fit(X_train, y_train)\n",
    "\n",
    "    return model\n",
    "\n",
    "\n",
    "basian_regression_model = train_model(device_id = DEVICE_ID)"
   ]
  },
  {
   "cell_type": "code",
   "execution_count": 10,
   "metadata": {},
   "outputs": [
    {
     "name": "stdout",
     "output_type": "stream",
     "text": [
      "The predicted time where the filter in device #2018 is: 3 days, 7 hours, and 4 minutes from installation\n"
     ]
    }
   ],
   "source": [
    "def predict(device_id, model, level=1, threshold = 80, data_set_path = OXYGEN_CONCENTRATOR_LOG):\n",
    "    # Check if data_set_path is not None\n",
    "    if data_set_path is None:\n",
    "        raise ValueError(\"data_set_path must not be None\")\n",
    "\n",
    "    # Check if device_id is an integer\n",
    "    if not isinstance(device_id, int):\n",
    "        raise ValueError(\"device_id must be an integer\")\n",
    "    \n",
    "    # Load the data from the CSV file\n",
    "    df = pd.read_csv(data_set_path)\n",
    "\n",
    "    # Select only the data for the given device ID\n",
    "    df = df[df['device_id'] == device_id]\n",
    "    # Check if the filtered data frame is not empty\n",
    "    if df.empty:\n",
    "        raise ValueError(\"No data found for device ID {device_id}\")\n",
    "    # Validate the input arguments\n",
    "    if level not in [1, 2]:\n",
    "        raise ValueError(\"Invalid level: must be either 1 or 2\")\n",
    "    if threshold <= 0:\n",
    "        raise ValueError(\"Invalid threshold: must be a positive number\")\n",
    "\n",
    "    # Define the input variables\n",
    "    # Use the trained BayesianRidge model to predict oxygen concentration at a series of time points\n",
    "    t = np.arange(df['use_duration_in_min'].min(), df['use_duration_in_min'].max() + 4000)\n",
    "    X =  pd.DataFrame(np.column_stack((np.ones_like(t), t)), columns=['level', 'use_duration_in_min'])\n",
    "    y_pred = model.predict(X)\n",
    "\n",
    "    # Find the first time point where the predicted oxygen concentration is less than 80\n",
    "    idx = np.where(y_pred < 80)[0]\n",
    "    if len(idx) == 0:\n",
    "        # No time points were found where the predicted concentration is less than 80\n",
    "        return None\n",
    "    else:\n",
    "        # Return the first time point where the predicted concentration is less than 80\n",
    "        return t[idx[0]]\n",
    "\n",
    "predicted_time_in_minutes = predict(device_id=DEVICE_ID, model=basian_regression_model)\n",
    "\n",
    "# Format output\n",
    "if predicted_time_in_minutes is None:\n",
    "    print(\"No time points were found where the predicted concentration is less than 80\")\n",
    "else:\n",
    "    # Convert the duration to days, hours, and minutes\n",
    "    days = predicted_time_in_minutes // (24 * 60)\n",
    "    hours = (predicted_time_in_minutes // 60) % 24\n",
    "    minutes = predicted_time_in_minutes % 60\n",
    "    print(f\"The predicted time where the filter(s) needs change in device {DEVICE_ID} is: {days} days, {hours} hours, and {minutes} minutes from installation\")"
   ]
  }
 ],
 "metadata": {
  "kernelspec": {
   "display_name": "coding_challenge",
   "language": "python",
   "name": "python3"
  },
  "language_info": {
   "codemirror_mode": {
    "name": "ipython",
    "version": 3
   },
   "file_extension": ".py",
   "mimetype": "text/x-python",
   "name": "python",
   "nbconvert_exporter": "python",
   "pygments_lexer": "ipython3",
   "version": "3.11.1"
  },
  "orig_nbformat": 4,
  "vscode": {
   "interpreter": {
    "hash": "a9feff1a648113526744674ae4e063960e08084a5f6ee13bf3954101d657a871"
   }
  }
 },
 "nbformat": 4,
 "nbformat_minor": 2
}
